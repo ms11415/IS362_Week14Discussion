{
 "cells": [
  {
   "cell_type": "markdown",
   "metadata": {},
   "source": [
    "# Recommender Systems\n",
    "\n",
    "## A Design Scenario Analysis of Google Music\n",
    "\n",
    " \n",
    "### Who are the target users?\n",
    " \n",
    "Google Music's target users are people who want to have access to music streaming at various locations and on various devices. Its competitors include other music streaming services such as Apple Music, Spotify and Pandora.\n",
    " \n",
    "### What are their key goals?\n",
    " \n",
    "Google Music \"allows users to stream up to 50,000 of their own songs for free across most platforms, in addition to allowing free users to listen to curated stations and paid users to stream up to 40 million songs in their streaming library.\" (Wagoner, 2018.) \n",
    " \n",
    "### How can Google Music help them accomplish their goals?\n",
    "\n",
    "Google Music's interface reveals a variety of ways that it provides music to its users.  \n",
    "\n",
    "![Google Music](googlemusic.png)\n",
    " \n",
    "From this screenshot, we see that first suggested music is simply duplication of past listening history (\"Recent Activity\").  Scrolling down reveals recommendations based on the day of the week, music \"for fans of\" other music in the user's history, and music \"similar to\" stations the user has listened to. Doubtless these recommendations are based both on tracking how many times a track or station has been listened to, and whether the user has voted with a thumbs-up or thumbs-down.  \n",
    "\n",
    "Google Music also appears to use geolocation and timestamp data, because scrolling further shows the line \"looks like you're at home\" and suggests music for \"Romantic moods\" or \"Mellow moods.\"  \n",
    "\n",
    "Google Music has another section called \"Recommended New Releases\" which makes specific recommendations and explains why, with the tag \"because you liked _specific artist_\".\n",
    "\n",
    "### Recommendations for improvement\n",
    "\n",
    "To keep user engagement high, I would recommend the ability to subscribe to other users' playlists and/or mark other users as \"friends.\"  The social aspect would add another dimension to consider when making music recommendations.\n",
    "\n",
    "\n",
    "References:\n",
    "\n",
    "Wagoner, A. (2018, January 11). Google Play Music: Everything you need to know!  Retrieved from https://www.androidcentral.com/google-play-music"
   ]
  }
 ],
 "metadata": {
  "kernelspec": {
   "display_name": "Python 2",
   "language": "python",
   "name": "python2"
  },
  "language_info": {
   "codemirror_mode": {
    "name": "ipython",
    "version": 2
   },
   "file_extension": ".py",
   "mimetype": "text/x-python",
   "name": "python",
   "nbconvert_exporter": "python",
   "pygments_lexer": "ipython2",
   "version": "2.7.13"
  }
 },
 "nbformat": 4,
 "nbformat_minor": 2
}
